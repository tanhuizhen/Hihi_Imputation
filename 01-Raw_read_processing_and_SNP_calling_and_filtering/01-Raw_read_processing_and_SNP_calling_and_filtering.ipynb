{
 "cells": [
  {
   "cell_type": "markdown",
   "id": "b274ef22-fb3f-4c55-a280-60f650f2515c",
   "metadata": {
    "tags": []
   },
   "source": [
    "# Raw read processing"
   ]
  },
  {
   "cell_type": "markdown",
   "id": "6e383b98-0df6-41b8-88e2-5ba05a54b799",
   "metadata": {},
   "source": [
    "Trim adaptors from raw reads "
   ]
  },
  {
   "cell_type": "code",
   "execution_count": null,
   "id": "4f6f10bb-c704-459a-9055-6e9b8221ea09",
   "metadata": {},
   "outputs": [],
   "source": [
    "#!/bin/bash -e\n",
    "\n",
    "#SBATCH --job-name=rawdata_hihi_wgs_trim.sl\n",
    "#SBATCH --account=project\n",
    "#SBATCH --time=00-12:00:00\n",
    "#SBATCH --mem=5GB\n",
    "#SBATCH --nodes=1\n",
    "#SBATCH --ntasks=1\n",
    "#SBATCH --cpus-per-task=16\n",
    "#SBATCH --array=1-31\n",
    "\n",
    "module load TrimGalore/0.6.7-gimkl-2020a-Python-3.8.2-Perl-5.30.1\n",
    "\n",
    "FILE=$(sed \"${SLURM_ARRAY_TASK_ID}q;d\" /nesi/nobackup/project/project_1/Nc2_HihiWGS/data/sequencing_file_ids.txt)\n",
    "\n",
    "echo \"working with sample:\" $FILE\n",
    "\n",
    "OUTPUT_DIR=/nesi/nobackup/project/project_1/Nc2_HihiWGS/data/trimmed\n",
    "RAW_DATA_R1=/nesi/nobackup/project/Hihi_2022/WGS_low_coverage_2022/${FILE}_R1_001.fastq.gz\n",
    "RAW_DATA_R2=/nesi/nobackup/project/Hihi_2022/WGS_low_coverage_2022/${FILE}_R2_001.fastq.gz\n",
    "\n",
    "trim_galore -j 16 -o ${OUTPUT_DIR} --fastqc --paired ${RAW_DATA_R1} ${RAW_DATA_R2}"
   ]
  },
  {
   "cell_type": "markdown",
   "id": "ad6d5e52-6671-45e6-be34-5b43463914b7",
   "metadata": {},
   "source": [
    "Merge reads across lanes for each individual"
   ]
  },
  {
   "cell_type": "code",
   "execution_count": null,
   "id": "260064d0-071b-45db-a2c5-6d9166af7605",
   "metadata": {},
   "outputs": [],
   "source": [
    "#!/bin/bash -e\n",
    " \n",
    "#SBATCH --job-name=rawdata_hihi_wgs_trim-merge.sl\n",
    "#SBATCH --account=project\n",
    "#SBATCH --time=20:00:00\n",
    "#SBATCH --mem=20GB\n",
    "#SBATCH --nodes=1\n",
    "#SBATCH --ntasks=1\n",
    "#SBATCH --cpus-per-task=16\n",
    "\n",
    "cd /nesi/nobackup/project/project_1/Nc2_HihiWGS/data\n",
    "\n",
    "ls -lh /nesi/nobackup/project/Hihi_2022/WGS_low_coverage_2022 | awk '{print $9}' | grep \"R1\" | sed 's/_/\\t/g' | cut -f1 | grep -v\n",
    "\"Undetermined\\|Blank\\\" | sort | uniq > sample_file_ids.txt\n",
    "\n",
    "for SAMPLE in $(cat sample_file_ids.txt)\n",
    "do\n",
    "cat /nesi/nobackup/project/project_1/Nc2_HihiWGS/data/trimmed/${SAMPLE}*_1.fq.gz >\n",
    "/nesi/nobackup/project/project_1/Nc2_HihiWGS/data/trimmed_merged/${SAMPLE}_R1.fq.gz\n",
    "cat /nesi/nobackup/project/project_1/Nc2_HihiWGS/data/trimmed/${SAMPLE}*_2.fq.gz >\n",
    "/nesi/nobackup/project/project_1/Nc2_HihiWGS/data/trimmed_merged/${SAMPLE}_R2.fq.gz\n",
    "done"
   ]
  },
  {
   "cell_type": "markdown",
   "id": "e07055d6-0d6b-46bd-8f18-3a74c45492ea",
   "metadata": {},
   "source": [
    "Index reference genome"
   ]
  },
  {
   "cell_type": "code",
   "execution_count": null,
   "id": "c8e05f50-b9ad-4e70-8284-c58c9c942302",
   "metadata": {},
   "outputs": [],
   "source": [
    "#!/bin/bash -e\n",
    "\n",
    "#SBATCH --job-name=VarCalling_index_hihi.sl\n",
    "#SBATCH --account=project\n",
    "#SBATCH --time=00-02:00:00\n",
    "#SBATCH --mem=5GB\n",
    "#SBATCH --nodes=1\n",
    "#SBATCH --ntasks=1\n",
    "#SBATCH --cpus-per-task=2\n",
    "\n",
    "cd /nesi/nobackup/project/project_1/Nc2_HihiWGS/data/resources\n",
    "\n",
    "module load BWA/0.7.17-GCC-9.2.0\n",
    "\n",
    "GENOME=/nesi/nobackup/project/Hihi_polished_genome/AGDR_data_bundle/scaffolded_genome.fa.gz\n",
    "cp $GENOME .\n",
    "gunzip scaffolded_genome.fa.gz\n",
    "bwa index scaffolded_genome.fa"
   ]
  },
  {
   "cell_type": "markdown",
   "id": "80b3d9e5-fc69-4c83-bfbe-ac929ef9f177",
   "metadata": {},
   "source": [
    "Align reads to reference genome"
   ]
  },
  {
   "cell_type": "code",
   "execution_count": null,
   "id": "3f15e868-3a5d-4bd8-bef4-d6d31827805d",
   "metadata": {},
   "outputs": [],
   "source": [
    "#!/bin/bash -e\n",
    "\n",
    "#SBATCH --job-name=VarCalling_hihi_wgs_map.sl\n",
    "#SBATCH --account=project\n",
    "#SBATCH --time=00-12:00:00\n",
    "#SBATCH --mem=20GB\n",
    "#SBATCH --nodes=1\n",
    "#SBATCH --ntasks=1\n",
    "#SBATCH --cpus-per-task=16\n",
    "#SBATCH --array=1-31\n",
    "\n",
    "# load modules\n",
    "module load BWA/0.7.17-GCC-9.2.0\n",
    "module load SAMtools/1.15.1-GCC-11.3.0\n",
    "\n",
    "cd /nesi/nobackup/project/project_1/Nc2_HihiWGS/data/mapped_reads\n",
    "\n",
    "# set paths\n",
    "SAMPLE=$(sed \"${SLURM_ARRAY_TASK_ID}q;d\" /nesi/nobackup/project/project_1/Nc2_HihiWGS/data/sample_file_ids.txt)\n",
    "echo \"working with sample:\" $SAMPLE\n",
    "GENOME=/nesi/nobackup/project/project_1/Nc2_HihiWGS/data/resources/scaffolded_genome.fa\n",
    "TRIM_DATA_R1=/nesi/nobackup/project/project_1/Nc2_HihiWGS/data/trimmed_merged/${SAMPLE}_R1.fq.gz\n",
    "TRIM_DATA_R2=/nesi/nobackup/project/project_1/Nc2_HihiWGS/data/trimmed_merged/${SAMPLE}_R2.fq.gz\n",
    "OUT_DIR=/nesi/nobackup/project/project_1/Nc2_HihiWGS/data/mapped_reads/\n",
    "\n",
    "# Map the reads\n",
    "bwa mem -t ${SLURM_CPUS_PER_TASK} \\\n",
    "-R \"@RG\\tID:${SAMPLE}\\tLB:${SAMPLE}_WGS\\tPL:ILLUMINA\\tSM:${SAMPLE}\" \\\n",
    "-M ${GENOME} ${TRIM_DATA_R1} ${TRIM_DATA_R2} | \\\n",
    "samtools sort | samtools view -O BAM -o ${OUT_DIR}/${SAMPLE}.sorted.bam\n",
    "\n",
    "# Check output\n",
    "samtools flagstat ${OUT_DIR}/${SAMPLE}.sorted.bam"
   ]
  },
  {
   "cell_type": "markdown",
   "id": "69264f48-f228-46d8-9f1b-7f49aa97812d",
   "metadata": {},
   "source": [
    "Identify duplicate reads"
   ]
  },
  {
   "cell_type": "code",
   "execution_count": null,
   "id": "69d7ce74-7d91-468b-a06e-8c3d57ffca16",
   "metadata": {},
   "outputs": [],
   "source": [
    "#!/bin/bash -e\n",
    "\n",
    "#SBATCH --job-name=VarCalling_hihi_wgs_dup.sl\n",
    "#SBATCH --account=project\n",
    "#SBATCH --time=00-12:00:00\n",
    "#SBATCH --mem=60GB\n",
    "#SBATCH --nodes=1\n",
    "#SBATCH --ntasks=1\n",
    "#SBATCH --cpus-per-task=2\n",
    "#SBATCH --array=1-31\n",
    "\n",
    "# load modules\n",
    "module load picard/2.26.10-Java-11.0.4\n",
    "module load SAMtools/1.15.1-GCC-11.3.0\n",
    "\n",
    "# set paths\n",
    "SAMPLE=$(sed \"${SLURM_ARRAY_TASK_ID}q;d\" /nesi/nobackup/project/project_1/Nc2_HihiWGS/data/sample_file_ids.txt)\n",
    "echo \"working with sample:\" $SAMPLE\n",
    "OUT_DIR=/nesi/nobackup/project/project_1/Nc2_HihiWGS/data/mapped_reads\n",
    "TMPDIR=/nesi/nobackup/project/project_1/Nc2_HihiWGS/data/mapped_reads/tmp\n",
    "export _JAVA_OPTIONS=-Djava.io.tmpdir=${TMPDIR}\n",
    "\n",
    "# Mark Duplicates\n",
    "picard MarkDuplicates INPUT=${OUT_DIR}/${SAMPLE}.sorted.bam OUTPUT=${OUT_DIR}/${SAMPLE}.sorted.dup.bam\n",
    "METRICS_FILE=${OUT_DIR}/${SAMPLE}.metrics.txt MAX_FILE_HANDLES_FOR_READ_ENDS_MAP=1000;\n",
    "\n",
    "# Generate index\n",
    "samtools index -@ ${SLURM_CPUS_PER_TASK} ${OUT_DIR}/${SAMPLE}.sorted.dup.bam"
   ]
  },
  {
   "cell_type": "markdown",
   "id": "2d57ae75-1291-439a-9017-4916a0c0ab3e",
   "metadata": {},
   "source": [
    "# SNP calling"
   ]
  },
  {
   "cell_type": "code",
   "execution_count": null,
   "id": "ec34b71b-c459-4fd3-8897-6220d4412d82",
   "metadata": {},
   "outputs": [],
   "source": [
    "#!/bin/bash -e\n",
    " \n",
    "#SBATCH --job-name=VarCalling_hihi_wgs_mpileup.sl\n",
    "#SBATCH --account=project\n",
    "#SBATCH --time=00-72:00:00\n",
    "#SBATCH --mem=6GB\n",
    "#SBATCH --nodes=1\n",
    "#SBATCH --ntasks=1\n",
    "#SBATCH --cpus-per-task=2\n",
    "\n",
    "# load modules\n",
    "module load BCFtools/1.13-GCC-9.2.0\n",
    "module load SAMtools/1.15.1-GCC-11.3.0\n",
    "\n",
    "# create file where BAM files list will go\n",
    "OUT_DIR=/nesi/nobackup/project/project_1/Nc2_HihiWGS/data/snp_variants_updated/\n",
    "\n",
    "touch ${OUT_DIR}/sample_bamfiles_list.txt\n",
    "\n",
    "# Fill BAM file list\n",
    "for SAMPLE_NUMBER in {1..31}\n",
    "do\n",
    "SAMPLE=$(sed \"${SAMPLE_NUMBER}q;d\"  /nesi/nobackup/project/project_1/Nc2_HihiWGS/data/sample_file_ids.txt )\n",
    "DIR=/nesi/nobackup/project/project_1/Nc2_HihiWGS/data/mapped_reads\n",
    "BAM=${DIR}/${SAMPLE}.sorted.dup.bam\n",
    "echo ${BAM} >> ${OUT_DIR}/sample_bamfiles_list.txt\n",
    "done\n",
    "\n",
    "# set paths\n",
    "GENOME=/nesi/nobackup/project/project_1/Nc2_HihiWGS/data/resources/scaffolded_genome.fa\n",
    "BAM_LIST=${OUT_DIR}/sample_bamfiles_list.txt\n",
    "\n",
    "## Calling variants\n",
    "bcftools mpileup -a 'DP,AD,ADF,ADR,SP' -Ou -f ${GENOME} -b ${BAM_LIST} | \\\n",
    "bcftools call -c | \\\n",
    "bcftools view --exclude-types indels | \\\n",
    "bcftools sort --temp-dir ${OUT_DIR}/temp -Oz -o ${OUT_DIR}/Hihi_wgs.vcf.gz"
   ]
  },
  {
   "cell_type": "markdown",
   "id": "7529f6a9-c353-4800-b3da-fe65d6c882cb",
   "metadata": {},
   "source": [
    "# SNP filtering"
   ]
  },
  {
   "cell_type": "markdown",
   "id": "b6f0c4d9-9e98-4c4a-92dc-f2dbea6c703d",
   "metadata": {},
   "source": [
    "retain SNPs with a genotype depth of at least 5, on autosomal chromosomes and with no missingness, remove non-variant sites, singletons, and multi-allelic SNPs"
   ]
  },
  {
   "cell_type": "code",
   "execution_count": null,
   "id": "ae4bfc86-2fac-406d-8293-54d0307c7728",
   "metadata": {},
   "outputs": [],
   "source": [
    "#!/bin/bash -e\n",
    "\n",
    "#SBATCH --job-name      ref-filter_site\n",
    "#SBATCH --mem           10G\n",
    "#SBATCH --time          5:00:00\n",
    "#SBATCH --cpus-per-task=12\n",
    "#SBATCH --account       project\n",
    "\n",
    "# set up environment\n",
    "module load PLINK/2.00a2.3\n",
    "module load BCFtools/1.19-GCC-11.3.0\n",
    "module load SAMtools/1.19-GCC-12.3.0\n",
    "module load VCFtools/0.1.15-GCC-9.2.0-Perl-5.30.1\n",
    "\n",
    "# set working directory 1\n",
    "cd /nesi/nobackup/project/project_1/Nc2_HihiWGS/data/snp_variants_updated/\n",
    "\n",
    "# filter sample and depth\n",
    "vcftools --gzvcf Hihi_wgs.vcf.gz --remove remove-sample.txt --mac 1 --minDP 5 --max-meanDP 100 --recode --recode-INFO-all --out hihi_wgs_filter_highcov\n",
    "\n",
    "# set working directory 2\n",
    "maindir=/nesi/nobackup/project/project_2/imputation-input/ref\n",
    "cd $maindir\n",
    "\n",
    "# copy file\n",
    "cp /nesi/nobackup/project/project_1/Nc2_HihiWGS/data/snp_variants_updated/hihi_wgs_filter_highcov.recode.vcf .\n",
    "\n",
    "# retain placed contigs\n",
    "bcftools view hihi_wgs_filter_highcov.recode.vcf \\\n",
    "--regions 1,2,3,4,5,6,7,8,9,10,11,12,13,14,15,16,17,18,19,20,21,22,23,24,25,26,27,28,1A,25A,25B,4A,LGE22 \\\n",
    "-Oz -o hihi_wgs_filter_highcov-autosomes.vcf.gz\n",
    "\n",
    "# rename SNP ID\n",
    "bcftools annotate --set-id +'%CHROM\\_%POS' hihi_wgs_filter_highcov-autosomes.vcf.gz \\\n",
    "-Oz -o hihi_wgs_filter_highcov-autosomes-snpID.vcf.gz\n",
    "\n",
    "# basic stats\n",
    "bcftools stats -s \"-\" hihi_wgs_filter_highcov-autosomes-snpID.vcf.gz > hihi_wgs_filter_highcov-autosomes-snpID.stats\n",
    "\n",
    "# calculate missingness \n",
    "plink2 --vcf hihi_wgs_filter_highcov-autosomes-snpID.vcf.gz --missing --chr-set 95 --allow-extra-chr --out hihi_wgs_filter_highcov-autosomes-snpID\n",
    "\n",
    "# remove variants with missingness > threshold\n",
    "bcftools view -i 'F_MISSING=0' hihi_wgs_filter_highcov-autosomes-snpID.vcf.gz -Oz -o hihi_wgs_filter_highcov-autosomes-snpID-noMissing.vcf.gz\n",
    "\n",
    "# remove non-variants & singletons & multiallelic SNPs\n",
    "bcftools view -Oz -o hihi_wgs_filter_highcov-autosomes-snpID-noMissing-noSingleton-2allele.vcf.gz -i 'AC>1' --max-alleles 2 hihi_wgs_filter_highcov-autosomes-snpID-noMissing.vcf.gz\n",
    "\n",
    "tabix -f hihi_wgs_filter_highcov-autosomes-snpID-noMissing-noSingleton-2allele.vcf.gz\n",
    "\n",
    "bcftools stats -s \"-\" hihi_wgs_filter_highcov-autosomes-snpID-noMissing-noSingleton-2allele.vcf.gz > hihi_wgs_filter_highcov-autosomes-snpID-noMissing-noSingleton-2allele.stats\n",
    "\n",
    "# calculate missingness \n",
    "plink2 --vcf hihi_wgs_filter_highcov-autosomes-snpID-noMissing-noSingleton-2allele.vcf.gz --missing --chr-set 95 --allow-extra-chr --out hihi_wgs_filter_highcov-autosomes-snpID-noMissing-noSingleton-2allele"
   ]
  }
 ],
 "metadata": {
  "kernelspec": {
   "display_name": "",
   "name": ""
  },
  "language_info": {
   "name": ""
  }
 },
 "nbformat": 4,
 "nbformat_minor": 5
}
